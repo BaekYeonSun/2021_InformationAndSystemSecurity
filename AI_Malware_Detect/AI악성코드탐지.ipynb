{
 "cells": [
  {
   "cell_type": "markdown",
   "metadata": {},
   "source": [
    "## 모듈 import"
   ]
  },
  {
   "cell_type": "code",
   "execution_count": 1,
   "metadata": {},
   "outputs": [],
   "source": [
    "# 모듈 import\n",
    "import os\n",
    "import glob\n",
    "import json\n",
    "import pprint\n",
    "\n",
    "import numpy as np\n",
    "import pandas as pd\n",
    "\n",
    "from lightgbm import LGBMClassifier\n",
    "import lightgbm as lgb\n",
    "\n",
    "from tqdm import tqdm # python 반복문의 진행률을 표시하기 위한 라이브러리 사용\n",
    "\n",
    "from sklearn.svm import SVC\n",
    "from sklearn.tree import DecisionTreeClassifier\n",
    "from sklearn.ensemble import RandomForestClassifier\n",
    "from sklearn.ensemble import AdaBoostClassifier\n",
    "from sklearn.neighbors import KNeighborsClassifier\n",
    "from sklearn.linear_model import LogisticRegression\n",
    "from sklearn.neural_network import MLPClassifier\n",
    "\n",
    "from sklearn.metrics import accuracy_score\n",
    "from sklearn.pipeline import Pipeline\n",
    "from sklearn.feature_selection import RFE\n",
    "from sklearn.feature_extraction import FeatureHasher\n",
    "\n",
    "import matplotlib.pyplot as plt # 각 데이터의 feature importance를 알기 위한 그래프 라이브러리 사용\n",
    "%matplotlib inline"
   ]
  },
  {
   "cell_type": "code",
   "execution_count": 2,
   "metadata": {},
   "outputs": [],
   "source": [
    "local_dir = \"/Users/yeonsun/Documents/2021_InformationAndSystemSecurity/AI_Malware_Detect/데이터\""
   ]
  },
  {
   "cell_type": "markdown",
   "metadata": {},
   "source": [
    "## read_label 함수, read_json 함수, load_model 함수, train 함수, evaluate 함수"
   ]
  },
  {
   "cell_type": "code",
   "execution_count": 3,
   "metadata": {},
   "outputs": [],
   "source": [
    "SEED = 41\n",
    "\n",
    "# 정답 파일을 읽어 key: 파일이름, value: 1(또는 0)을 가지는 dictionary\n",
    "# dictionary에 파일이름을 검색하면 해당 파일의 정답을 알 수 있음\n",
    "def read_label_csv(path):\n",
    "    label_table = dict()\n",
    "    with open(path, \"r\", encoding='ISO-8859-1') as f: # 인코딩\n",
    "        for line in f.readlines()[1:]:\n",
    "            fname, label = line.strip().split(\",\")\n",
    "            label_table[fname] = int(label)\n",
    "    return label_table\n",
    "\n",
    "\n",
    "# json파일 불러오는 함수\n",
    "def read_json(path):\n",
    "    with open(path, \"r\") as f:\n",
    "        return json.load(f)\n",
    "\n",
    "    \n",
    "# 머신러닝 정의하는 함수\n",
    "def load_model(**kwargs):\n",
    "    if kwargs[\"model\"] == \"rf\":\n",
    "        return [\"rf\", RandomForestClassifier(random_state=kwargs[\"random_state\"], n_jobs=4)]\n",
    "    elif kwargs[\"model\"] == \"dt\":\n",
    "        return [\"dt\", DecisionTreeClassifier(random_state=kwargs[\"random_state\"])]\n",
    "    elif kwargs[\"model\"] == \"lgb\":\n",
    "        return [\"lgb\", LGBMClassifier(random_state=kwargs[\"random_state\"])]\n",
    "    elif kwargs[\"model\"] == \"svm\":\n",
    "        return [\"svm\", SVC(random_state=kwargs[\"random_state\"], probability=True)]\n",
    "    elif kwargs[\"model\"] == \"lr\":\n",
    "        return [\"lr\", LogisticRegression(random_state=kwargs[\"random_state\"], n_jobs=-1, max_iter=30000)] # max_iter: Gradient Descent 방식을 반복할 횟수를 정하는 파라미터\n",
    "    elif kwargs[\"model\"] == \"knn\":\n",
    "        return [\"knn\", KNeighborsClassifier(n_jobs=-1)]\n",
    "    elif kwargs[\"model\"] == \"adaboost\":\n",
    "        return [\"adaboost\", AdaBoostClassifier(random_state=kwargs[\"random_state\"])]\n",
    "    elif kwargs[\"model\"] == \"mlp\":\n",
    "        return [\"mlp\", MLPClassifier(random_state=kwargs[\"random_state\"])]\n",
    "    else:\n",
    "        print(\"Unsupported Algorithm\")\n",
    "        return None\n",
    "    \n",
    "\n",
    "# 머신러닝 모델을 선택하여 학습을 진행하는 함수\n",
    "# param X_train: 학습할 2차원 리스트 특징벡터\n",
    "# param y_train: 학습할 1차원 리스트 레이블 벡터\n",
    "# param model: 문자열, 선택할 머신러닝 알고리즘\n",
    "# return: 학습된 머신러닝 모델 객체\n",
    "def train(X_train, y_train, model):\n",
    "    model, clf = load_model(model=model, random_state=SEED)\n",
    "    clf.fit(X_train, y_train)\n",
    "    return [model, clf]\n",
    "\n",
    "\n",
    "# 학습된 머신러닝 모델로 검증 데이터를 검증하는 함수\t\n",
    "# param X_test: 검증할 2차원 리스트 특징 벡터\n",
    "# param y_test: 검증할 1차원 리스트 레이블 벡터\n",
    "# param model: 학습된 머신러닝 모델 객체\n",
    "def evaluate(X_test, y_test, model):\n",
    "    predict = model[1].predict(X_test)\n",
    "    if model[0] == \"rf\":\n",
    "        print(\"RandomForest 정확도 : \", model[1].score(X_test, y_test))\n",
    "    elif model[0] == \"dt\":\n",
    "        print(\"DecisionTree 정확도 : \", model[1].score(X_test, y_test))\n",
    "    elif model[0] == \"lgb\":\n",
    "        print(\"LGBM 정확도 : \", model[1].score(X_test, y_test))\n",
    "    elif model[0] == \"svm\":\n",
    "        print(\"SVM 정확도 : \", model[1].score(X_test, y_test))\n",
    "    elif model[0] == \"lr\":\n",
    "        print(\"LogisticRegression 정확도 : \", model[1].score(X_test, y_test))\n",
    "    elif model[0] == \"knn\":\n",
    "        print(\"KNN 정확도 : \", model[1].score(X_test, y_test))\n",
    "    elif model[0] == \"adaboost\":\n",
    "        print(\"AdaBoost 정확도 : \", model[1].score(X_test, y_test))\n",
    "    elif model[0] == \"mlp\":\n",
    "        print(\"MLP 정확도 : \", model[1].score(X_test, y_test))"
   ]
  },
  {
   "cell_type": "markdown",
   "metadata": {
    "id": "YXXNrGCUT2HQ"
   },
   "source": [
    "## 레이블 테이블 로드"
   ]
  },
  {
   "cell_type": "code",
   "execution_count": 4,
   "metadata": {},
   "outputs": [],
   "source": [
    "label_table = read_label_csv(local_dir + \"/학습데이터_정답.csv\")\n",
    "check_label_table = read_label_csv(local_dir + \"/검증데이터_정답.csv\")"
   ]
  },
  {
   "cell_type": "markdown",
   "metadata": {
    "id": "tpk-XEW9T2HT"
   },
   "source": [
    "## 특징 벡터 생성 예시\n",
    "- PEMINER 정보는 모두 수치형 데이터이므로 특별히 가공을 하지 않고 사용 가능\n",
    "- EMBER, PESTUDIO 정보는 가공해서 사용해야 할 특징들이 있음 (e.g. imports, exports 등의 문자열 정보를 가지는 데이터)\n",
    "- 수치형 데이터가 아닌 데이터(범주형 데이터)를 어떻게 가공할 지가 관건 >> 인코딩 (e.g. 원핫인코딩, 레이블인코딩 등)"
   ]
  },
  {
   "cell_type": "code",
   "execution_count": 5,
   "metadata": {},
   "outputs": [],
   "source": [
    "# PEMINER 데이터 json 파일에서 모든 데이터 추출 - 188개\n",
    "class PeminerParser:\n",
    "    def __init__(self, path):\n",
    "        self.report = read_json(path)\n",
    "        self.vector = []\n",
    "    \n",
    "    def process_report(self):\n",
    "        '''\n",
    "            전체 데이터 사용        \n",
    "        '''\n",
    "        \n",
    "        self.vector = [value for _, value in sorted(self.report.items(), key=lambda x: x[0])]\n",
    "        return self.vector"
   ]
  },
  {
   "cell_type": "code",
   "execution_count": 6,
   "metadata": {},
   "outputs": [],
   "source": [
    "# EMBER 데이터 json 파일에서 모든 데이터 추출 - 202개\n",
    "class EmberParser:\n",
    "    '''\n",
    "        예제에서 사용하지 않은 특징도 사용하여 벡터화 할 것을 권장\n",
    "    '''\n",
    "    def __init__(self, path):\n",
    "        self.report = read_json(path)\n",
    "        self.vector = []\n",
    "        \n",
    "    # def get_histogram_info(self):\n",
    "    #     histogram = np.array(self.report[\"histogram\"])\n",
    "    #     total = histogram.sum()\n",
    "    #     vector = histogram / total\n",
    "    #     return vector.tolist()\n",
    "    \n",
    "    # def get_string_info(self):\n",
    "    #     strings = self.report[\"strings\"]\n",
    "\n",
    "    #     hist_divisor = float(strings['printables']) if strings['printables'] > 0 else 1.0\n",
    "    #     vector = [\n",
    "    #         strings['numstrings'], \n",
    "    #         strings['avlength'], \n",
    "    #         strings['printables'],\n",
    "    #         strings['entropy'], \n",
    "    #         strings['paths'], \n",
    "    #         strings['urls'],\n",
    "    #         strings['registry'], \n",
    "    #         strings['MZ']\n",
    "    #     ]\n",
    "    #     vector += (np.asarray(strings['printabledist']) / hist_divisor).tolist()\n",
    "    #     return vector\n",
    "    \n",
    "    # def get_general_file_info(self):\n",
    "    #     general = self.report[\"general\"]\n",
    "    #     vector = [\n",
    "    #         general['size'], general['vsize'], general['has_debug'], general['exports'], general['imports'],\n",
    "    #         general['has_relocations'], general['has_resources'], general['has_signature'], general['has_tls'],\n",
    "    #         general['symbols']\n",
    "    #     ]\n",
    "    #     return vector\n",
    "    \n",
    "    # general의 imports 추출\n",
    "    def get_import_info(self): \n",
    "        general = self.report[\"general\"]\n",
    "        vector = [\n",
    "            general['imports']\n",
    "        ]\n",
    "        return vector\n",
    "    \n",
    "    # general의 exports 추출\n",
    "    # def get_export_info(self): \n",
    "    #     general = self.report[\"general\"]\n",
    "    #     vector = [\n",
    "    #         general['exports']\n",
    "    #     ]\n",
    "    #     return vector\n",
    "\n",
    "    # section의 수치화 된 데이터 일부 추출\n",
    "    def get_section_info(self): \n",
    "        section = self.report[\"section\"]\n",
    "        vector = [\n",
    "            len(section[\"sections\"]) # section의 sections의 길이 추출\n",
    "        ]\n",
    "        # name(파일의 확장자)과 size를 한 쌍으로 묶어서 추출\n",
    "        section_sizes = [(s['name'], s['size']) for s in section[\"sections\"]] \n",
    "        vector.extend(FeatureHasher(50, input_type=\"pair\").transform([section_sizes]).toarray()[0]) # section_sizes_hashed\n",
    "        # name과 entropy를 한 쌍으로 묶어서 추출\n",
    "        section_entropy = [(s['name'], s['entropy']) for s in section[\"sections\"]]\n",
    "        vector.extend(FeatureHasher(50, input_type=\"pair\").transform([section_entropy]).toarray()[0]) # section_entropy_hashed\n",
    "        # name과 vsize를 한 쌍으로 묶어서 추출\n",
    "        section_vsize = [(s['name'], s['vsize']) for s in section[\"sections\"]]\n",
    "        vector.extend(FeatureHasher(50, input_type=\"pair\").transform([section_vsize]).toarray()[0]) # section_vsize_hashed\n",
    "        # name과 entry가 같을 때, props 추출\n",
    "        props = [p for s in section[\"sections\"] for p in s['props'] if s['name'] == section['entry']]\n",
    "        vector.extend(FeatureHasher(50, input_type=\"string\").transform([props]).toarray()[0]) # props_hashed\n",
    "        return vector\n",
    "\n",
    "\n",
    "    def process_report(self):\n",
    "        vector = []\n",
    "        # vector += self.get_histogram_info()\n",
    "        # vector += self.get_string_info()\n",
    "        # vector += self.get_general_file_info()\n",
    "        vector += self.get_import_info()\n",
    "        # vector += self.get_export_info()\n",
    "        vector += self.get_section_info()\n",
    "        return vector"
   ]
  },
  {
   "cell_type": "code",
   "execution_count": 7,
   "metadata": {},
   "outputs": [],
   "source": [
    "# PESTUDIO 데이터 json 파일에서 모든 데이터 추출 - 7개\n",
    "class PestudioParser:\n",
    "    '''\n",
    "        사용할 특징을 선택하여 벡터화 할 것을 권장\n",
    "    '''\n",
    "    \n",
    "    def __init__(self, path):\n",
    "        try:\n",
    "            self.report = read_json(path)\n",
    "        except FileNotFoundError:\n",
    "            self.report = None\n",
    "        self.vector = []\n",
    "\n",
    "     # overview의 수치화 된 데이터 중 entropy 추출\n",
    "    def get_image_info(self):\n",
    "        image = self.report[\"image\"]\n",
    "        vector = [float(image[\"overview\"][\"entropy\"])]\n",
    "        return vector\n",
    "\n",
    "    # incidators의 severity가 1인 비율을 추출\n",
    "    def get_indicator_info(self): \n",
    "        indicators = self.report[\"image\"][\"indicators\"]\n",
    "        try:\n",
    "            vector = [sum(1 for s in indicators[\"indicator\"] if s[\"@severity\"] == \"1\") / len(indicators[\"indicator\"])]\n",
    "        except KeyError:\n",
    "            vector = [-1]\n",
    "        return vector\n",
    "\n",
    "    # dos-header의 size(크기) 추출\n",
    "    def get_dosHeader_info(self):\n",
    "        try:\n",
    "            header = self.report[\"image\"][\"dos-header\"]\n",
    "            vector = [int(header[\"size\"])]\n",
    "        except KeyError:\n",
    "            vector = [-1]\n",
    "        return vector\n",
    "\n",
    "    # dos-stub의 size(크기) 추출\n",
    "    # def get_dosStub_info(self): \n",
    "    #     try:\n",
    "    #         stub = self.report[\"image\"][\"dos-stub\"]\n",
    "    #         vector = [int(stub[\"size\"])]\n",
    "    #     except KeyError:\n",
    "    #         vector = [-1]\n",
    "    #     return vector\n",
    "\n",
    "    # optional-header의 file-checksum을 16진수에서 10진수로 변환하여 추출\n",
    "    # def get_optionalHeader_info(self): \n",
    "    #     try:\n",
    "    #         header = self.report[\"image\"][\"optional-header\"]\n",
    "    #         vector = [ int(header[\"file-checksum\"], 16) ]\n",
    "    #     except:\n",
    "    #         vector = [-1]\n",
    "    #     return vector\n",
    "\n",
    "    # directories의 @size가 0이 아닌 요소들의 합 추출\n",
    "    # def get_directories_info(self): \n",
    "    #     try:\n",
    "    #         directory = self.report[\"image\"][\"directories\"][\"directory\"]\n",
    "    #         vector = [sum(1 for d in directory if d[\"@size\"] != \"0\")]\n",
    "    #     except KeyError:\n",
    "    #         vector = [-1]\n",
    "    #     return vector\n",
    "\n",
    "    # libraries의 @blacklist가 \"x\"인 요소들의 비율 추출\n",
    "    def get_libraries_info(self): \n",
    "        try:\n",
    "            libraries = self.report[\"image\"][\"libraries\"]\n",
    "            if libraries == \"n/a\" or len(libraries) == 1:\n",
    "                vector = [0]\n",
    "            else:\n",
    "                try:\n",
    "                    vector = [sum(1 for i in libraries[\"library\"] if i[\"@blacklist\"] == \"x\") / len(libraries[\"library\"])]\n",
    "                except TypeError:\n",
    "                    vector = [1 if libraries[\"library\"][\"@blacklist\"] == \"x\" else 0]\n",
    "        except:\n",
    "            vector = [-1]\n",
    "        return vector\n",
    "\n",
    "    # imports의 @blacklist가 \"x\"인 요소들의 비율 추출\n",
    "    def get_imports_info(self): \n",
    "        try:\n",
    "            imports = self.report[\"image\"][\"imports\"]\n",
    "            if imports == \"n/a\" or len(imports) == 1:\n",
    "                vector = [0]\n",
    "            else:\n",
    "                try:\n",
    "                    vector = [sum(1 for i in imports[\"import\"] if i[\"@blacklist\"] == \"x\") / len(imports[\"import\"])]\n",
    "                except TypeError:\n",
    "                    vector = [1 if imports[\"import\"][\"@blacklist\"] == \"x\" else 0]\n",
    "        except:\n",
    "            vector = [-1]\n",
    "        return vector\n",
    "\n",
    "    # exports의 export 요소의 개수 추출\n",
    "    # def get_exports_info(self): \n",
    "    #     try:\n",
    "    #         exports = self.report[\"image\"][\"exports\"]\n",
    "    #         vector = [0 if exports == \"n/a\" else len(exports[\"export\"])]\n",
    "    #     except:\n",
    "    #         vector = [-1]\n",
    "    #     return vector\n",
    "\n",
    "    # strings의 @bl, @count 추출\n",
    "    def get_strings_info(self): \n",
    "        strings = self.report[\"image\"][\"strings\"]\n",
    "        vector = [\n",
    "            float(strings[\"@bl\"]),\n",
    "            float(strings[\"@count\"])\n",
    "        ]\n",
    "        return vector\n",
    "    \n",
    "    def process_report(self):\n",
    "        vector = []\n",
    "\n",
    "        if self.report:\n",
    "            vector += self.get_image_info()\n",
    "            vector += self.get_indicator_info()\n",
    "            vector += self.get_dosHeader_info()\n",
    "            # vector += self.get_dosStub_info()\n",
    "            # vector += self.get_optionalHeader_info()\n",
    "            # vector += self.get_directories_info()\n",
    "            vector += self.get_libraries_info()\n",
    "            vector += self.get_imports_info()\n",
    "            # vector += self.get_exports_info()\n",
    "            vector += self.get_strings_info()\n",
    "        else: \n",
    "            # FileNotFoundError인 경우 vector에 -1 값 넣어서 추출\n",
    "            vector = [-1 for _ in range(7)]\n",
    "        return vector\n"
   ]
  },
  {
   "cell_type": "markdown",
   "metadata": {
    "id": "L5VRDTBbT2Hd"
   },
   "source": [
    "## 데이터 벡터 구성\n",
    "- 특징 벡터 구성은 2차원이 되어야함 e.g.  [vector_1, vector_2, ..., vector_n]\n",
    "- 각 벡터는 1차원 리스트, 벡터 크기는 모두 같아야함"
   ]
  },
  {
   "cell_type": "markdown",
   "metadata": {},
   "source": [
    "## 학습데이터 X, y"
   ]
  },
  {
   "cell_type": "code",
   "execution_count": 8,
   "metadata": {},
   "outputs": [
    {
     "data": {
      "text/plain": [
       "((20000, 397), (20000,))"
      ]
     },
     "execution_count": 8,
     "metadata": {},
     "output_type": "execute_result"
    }
   ],
   "source": [
    "# 학습데이터\n",
    "peminer_url = (local_dir + '/PEMINER/학습데이터/')\n",
    "ember_url = (local_dir + '/EMBER/학습데이터/')\n",
    "pestudio_url = (local_dir + '/PESTUDIO/학습데이터/')\n",
    "\n",
    "# 데이터의 특징 벡터 모음(2차원 리스트) : X\n",
    "# 데이터의 레이블 모음(1차원 리스트) : y\n",
    "X, y = [], []\n",
    "\n",
    "for fname in list(label_table.keys()):\n",
    "    feature_vector = []\n",
    "    label = label_table[fname.split('.')[0]]\n",
    "\n",
    "    for data in [peminer_url, ember_url, pestudio_url]:\n",
    "        path = f\"{data}/{fname}.json\"\n",
    "        if data == peminer_url:\n",
    "            feature_vector += PeminerParser(path).process_report()\n",
    "        elif data == ember_url:\n",
    "            feature_vector += EmberParser(path).process_report()\n",
    "        else:\n",
    "            feature_vector += PestudioParser(path).process_report()\n",
    "            \n",
    "    X.append(feature_vector)\n",
    "    y.append(label)\n",
    "\n",
    "np.asarray(X).shape, np.asarray(y).shape"
   ]
  },
  {
   "cell_type": "markdown",
   "metadata": {},
   "source": [
    "## 검증데이터 valid_X, valid_y"
   ]
  },
  {
   "cell_type": "code",
   "execution_count": 9,
   "metadata": {},
   "outputs": [
    {
     "data": {
      "text/plain": [
       "((10000, 397), (10000,))"
      ]
     },
     "execution_count": 9,
     "metadata": {},
     "output_type": "execute_result"
    }
   ],
   "source": [
    "# 검증데이터\n",
    "perminer_check_url = (local_dir + '/PEMINER/검증데이터')\n",
    "ember_check_url = (local_dir + '/EMBER/검증데이터')\n",
    "pestudio_check_url = (local_dir + '/PESTUDIO/검증데이터')\n",
    "\n",
    "# 데이터의 특징 벡터 모음(2차원 리스트) : X\n",
    "# 데이터의 레이블 모음(1차원 리스트) : y\n",
    "valid_X, vaild_y = [], []\n",
    "\n",
    "for fname in list(check_label_table.keys()):\n",
    "    feature_vector = []\n",
    "    label = check_label_table[fname.split('.')[0]]\n",
    "\n",
    "    for data in [perminer_check_url, ember_check_url, pestudio_check_url]:\n",
    "        path = f\"{data}/{fname}.json\"\n",
    "        if data == perminer_check_url:\n",
    "            feature_vector += PeminerParser(path).process_report()\n",
    "        elif data == ember_check_url:\n",
    "            feature_vector += EmberParser(path).process_report()\n",
    "        else:\n",
    "            feature_vector += PestudioParser(path).process_report()\n",
    "            \n",
    "    valid_X.append(feature_vector)\n",
    "    vaild_y.append(label)\n",
    "\n",
    "np.asarray(valid_X).shape, np.asarray(vaild_y).shape"
   ]
  },
  {
   "cell_type": "markdown",
   "metadata": {},
   "source": [
    "## model 여러개 학습 및 검증"
   ]
  },
  {
   "cell_type": "code",
   "execution_count": 10,
   "metadata": {},
   "outputs": [
    {
     "name": "stderr",
     "output_type": "stream",
     "text": [
      "100%|██████████| 8/8 [13:19<00:00, 99.94s/it] \n"
     ]
    },
    {
     "name": "stdout",
     "output_type": "stream",
     "text": [
      "Finished training.\n"
     ]
    },
    {
     "name": "stderr",
     "output_type": "stream",
     "text": [
      " 12%|█▎        | 1/8 [00:00<00:03,  1.91it/s]"
     ]
    },
    {
     "name": "stdout",
     "output_type": "stream",
     "text": [
      "RandomForest 정확도 :  0.9567\n"
     ]
    },
    {
     "name": "stderr",
     "output_type": "stream",
     "text": [
      " 25%|██▌       | 2/8 [00:00<00:02,  2.24it/s]"
     ]
    },
    {
     "name": "stdout",
     "output_type": "stream",
     "text": [
      "DecisionTree 정확도 :  0.9272\n"
     ]
    },
    {
     "name": "stderr",
     "output_type": "stream",
     "text": [
      " 38%|███▊      | 3/8 [00:01<00:02,  2.48it/s]"
     ]
    },
    {
     "name": "stdout",
     "output_type": "stream",
     "text": [
      "LGBM 정확도 :  0.9575\n"
     ]
    },
    {
     "name": "stderr",
     "output_type": "stream",
     "text": [
      " 50%|█████     | 4/8 [00:47<01:14, 18.60s/it]"
     ]
    },
    {
     "name": "stdout",
     "output_type": "stream",
     "text": [
      "SVM 정확도 :  0.8269\n"
     ]
    },
    {
     "name": "stderr",
     "output_type": "stream",
     "text": [
      " 62%|██████▎   | 5/8 [00:48<00:36, 12.03s/it]"
     ]
    },
    {
     "name": "stdout",
     "output_type": "stream",
     "text": [
      "LogisticRegression 정확도 :  0.8417\n"
     ]
    },
    {
     "name": "stderr",
     "output_type": "stream",
     "text": [
      " 75%|███████▌  | 6/8 [00:58<00:22, 11.49s/it]"
     ]
    },
    {
     "name": "stdout",
     "output_type": "stream",
     "text": [
      "KNN 정확도 :  0.905\n"
     ]
    },
    {
     "name": "stderr",
     "output_type": "stream",
     "text": [
      " 88%|████████▊ | 7/8 [00:59<00:07,  7.92s/it]"
     ]
    },
    {
     "name": "stdout",
     "output_type": "stream",
     "text": [
      "AdaBoost 정확도 :  0.9062\n"
     ]
    },
    {
     "name": "stderr",
     "output_type": "stream",
     "text": [
      "100%|██████████| 8/8 [00:59<00:00,  7.45s/it]"
     ]
    },
    {
     "name": "stdout",
     "output_type": "stream",
     "text": [
      "MLP 정확도 :  0.8337\n",
      "Finished evaluation.\n"
     ]
    },
    {
     "name": "stderr",
     "output_type": "stream",
     "text": [
      "\n"
     ]
    }
   ],
   "source": [
    "# model 여러개 학습\n",
    "model_name = [\"rf\", \"dt\", \"lgb\", \"svm\", \"lr\", \"knn\", \"adaboost\", \"mlp\"]\n",
    "models = []\n",
    "for model in tqdm(model_name):\n",
    "    model, clf = train(X, y, model)\n",
    "    models.append([model, clf])\n",
    "print('Finished training.')\n",
    "\n",
    "# 검증\n",
    "for model in tqdm(models): \n",
    "    evaluate(valid_X, vaild_y, model)\n",
    "print('Finished evaluation.')"
   ]
  },
  {
   "cell_type": "markdown",
   "metadata": {},
   "source": [
    "## 앙상블 evaluate 함수"
   ]
  },
  {
   "cell_type": "code",
   "execution_count": 11,
   "metadata": {},
   "outputs": [],
   "source": [
    "def ensemble_result(X, y, models):\n",
    "    '''\n",
    "        학습된 모델들의 결과를 앙상블하는 함수\n",
    "\t\n",
    "        :param X: 검증할 2차원 리스트 특징 벡터\n",
    "        :param y: 검증할 1차원 리스트 레이블 벡터\n",
    "        :param models: 1개 이상의 학습된 머신러닝 모델 객체를 가지는 1차원 리스트\n",
    "    '''\n",
    "    \n",
    "    # Soft Voting\n",
    "    # https://devkor.tistory.com/entry/Soft-Voting-%EA%B3%BC-Hard-Voting\n",
    "    predicts = []\n",
    "    for model in tqdm(models):\n",
    "        prob = [result for _, result in model[1].predict_proba(X)]\n",
    "        predicts.append(prob)\n",
    "    \n",
    "    predict = np.mean(predicts, axis=0)\n",
    "    predict = [1 if x >= 0.5 else 0 for x in predict]\n",
    "        \n",
    "    print(\"emsemble 정확도 : \", accuracy_score(y, predict))"
   ]
  },
  {
   "cell_type": "markdown",
   "metadata": {},
   "source": [
    "## 앙상블 학습 및 검증"
   ]
  },
  {
   "cell_type": "code",
   "execution_count": 12,
   "metadata": {},
   "outputs": [
    {
     "name": "stderr",
     "output_type": "stream",
     "text": [
      "100%|██████████| 2/2 [00:03<00:00,  1.71s/it]\n"
     ]
    },
    {
     "name": "stdout",
     "output_type": "stream",
     "text": [
      "Finished training.\n"
     ]
    },
    {
     "name": "stderr",
     "output_type": "stream",
     "text": [
      "100%|██████████| 2/2 [00:00<00:00,  4.93it/s]"
     ]
    },
    {
     "name": "stdout",
     "output_type": "stream",
     "text": [
      "emsemble 정확도 :  0.961\n",
      "Finished evaluation.\n"
     ]
    },
    {
     "name": "stderr",
     "output_type": "stream",
     "text": [
      "\n"
     ]
    }
   ],
   "source": [
    "# ensemble 학습\n",
    "models = []\n",
    "for model in tqdm([\"rf\", \"lgb\"]):\n",
    "    clf = train(X, y, model)\n",
    "    models.append(clf)\n",
    "print('Finished training.')\n",
    "\n",
    "# ensemble 검증\n",
    "ensemble_result(valid_X, vaild_y, models)\n",
    "print('Finished evaluation.')"
   ]
  },
  {
   "cell_type": "markdown",
   "metadata": {
    "id": "q29vY5nuT2Hr"
   },
   "source": [
    "## 특징 선택 예제 (RFE 알고리즘 사용)"
   ]
  },
  {
   "cell_type": "code",
   "execution_count": 13,
   "metadata": {},
   "outputs": [],
   "source": [
    "def select_feature(X, y, model):\n",
    "    '''\n",
    "        주어진 특징 벡터에서 특정 알고리즘 기반 특징 선택\n",
    "        \n",
    "        본 예제에서는 RFE 알고리즘 사용\n",
    "        https://scikit-learn.org/stable/modules/generated/sklearn.feature_selection.RFE.html#sklearn.feature_selection.RFE.fit_transform\n",
    "        \n",
    "        :param X: 검증할 2차원 리스트 특징 벡터\n",
    "        :param y: 검증할 1차원 리스트 레이블 벡터\n",
    "        :param model: 문자열, 특징 선택에 사용할 머신러닝 알고리즘\n",
    "    '''\n",
    "    \n",
    "    model, clf = load_model(model=model, random_state=SEED)\n",
    "    rfe = RFE(estimator=clf)\n",
    "    return rfe.fit_transform(X, y)"
   ]
  },
  {
   "cell_type": "markdown",
   "metadata": {},
   "source": [
    "## 테스트데이터 test_X\n",
    "- 테스트데이터의 파일명 추출하여 테스트 레이블 테이블 만들기"
   ]
  },
  {
   "cell_type": "code",
   "execution_count": 20,
   "metadata": {},
   "outputs": [],
   "source": [
    "def get_testdata_filename():\n",
    "    return [i[:-5] for i in os.listdir(local_dir + '/EMBER/테스트데이터')]"
   ]
  },
  {
   "cell_type": "code",
   "execution_count": 21,
   "metadata": {},
   "outputs": [],
   "source": [
    "test_label_table = get_testdata_filename()"
   ]
  },
  {
   "cell_type": "markdown",
   "metadata": {},
   "source": [
    "## test 데이터 test_X"
   ]
  },
  {
   "cell_type": "code",
   "execution_count": 22,
   "metadata": {},
   "outputs": [
    {
     "name": "stderr",
     "output_type": "stream",
     "text": [
      "100%|██████████| 10000/10000 [00:55<00:00, 179.71it/s]\n"
     ]
    },
    {
     "data": {
      "text/plain": [
       "(10000, 397)"
      ]
     },
     "execution_count": 22,
     "metadata": {},
     "output_type": "execute_result"
    }
   ],
   "source": [
    "# 테스트 데이터\n",
    "peminer_test_url = (local_dir + '/PEMINER/테스트데이터')\n",
    "ember_test_url = (local_dir + '/EMBER/테스트데이터')\n",
    "pestudio_test_url = (local_dir + '/PESTUDIO/테스트데이터')\n",
    "\n",
    "# 데이터의 특징 벡터 모음(2차원 리스트) : X\n",
    "test_X = []\n",
    "\n",
    "for fname in tqdm(test_label_table):\n",
    "    feature_vector = []\n",
    "    for data in [peminer_test_url, ember_test_url, pestudio_test_url]:\n",
    "        path = f\"{data}/{fname}.json\"\n",
    "        if data == peminer_test_url:\n",
    "            feature_vector += PeminerParser(path).process_report()\n",
    "        elif data == ember_test_url:\n",
    "            feature_vector += EmberParser(path).process_report()\n",
    "        else:\n",
    "            feature_vector += PestudioParser(path).process_report()\n",
    "    test_X.append(feature_vector)\n",
    "\n",
    "np.asarray(test_X).shape"
   ]
  },
  {
   "cell_type": "markdown",
   "metadata": {},
   "source": [
    "## test_X 검증"
   ]
  },
  {
   "cell_type": "code",
   "execution_count": 23,
   "metadata": {},
   "outputs": [],
   "source": [
    "def ensemble_result(X, models):\n",
    "    '''\n",
    "        학습된 모델들의 결과를 앙상블하는 함수\n",
    "        :param models: 1개 이상의 학습된 머신러닝 모델 객체를 가지는 1차원 리스트\n",
    "    '''\n",
    "    \n",
    "    # Soft Voting\n",
    "    # https://devkor.tistory.com/entry/Soft-Voting-%EA%B3%BC-Hard-Voting\n",
    "    predicts = []\n",
    "    for model in tqdm(models):\n",
    "        prob = [result for _, result in model[1].predict_proba(X)]\n",
    "        predicts.append(prob)\n",
    "    \n",
    "    predict = np.mean(predicts, axis=0)\n",
    "    predict = [1 if x >= 0.5 else 0 for x in predict]\n",
    "    \n",
    "    return predict"
   ]
  },
  {
   "cell_type": "code",
   "execution_count": 24,
   "metadata": {},
   "outputs": [
    {
     "name": "stderr",
     "output_type": "stream",
     "text": [
      "100%|██████████| 2/2 [00:00<00:00,  4.94it/s]"
     ]
    },
    {
     "name": "stdout",
     "output_type": "stream",
     "text": [
      "Finished evaluation.\n"
     ]
    },
    {
     "name": "stderr",
     "output_type": "stream",
     "text": [
      "\n"
     ]
    }
   ],
   "source": [
    "predict = ensemble_result(test_X, models)\n",
    "# print(predict)\n",
    "print('Finished evaluation.')"
   ]
  },
  {
   "cell_type": "markdown",
   "metadata": {},
   "source": [
    "## test result csv 파일 생성"
   ]
  },
  {
   "cell_type": "code",
   "execution_count": 25,
   "metadata": {},
   "outputs": [],
   "source": [
    "submission_csv = pd.DataFrame(columns=['file', 'predict'])\n",
    "predictions = pd.DataFrame(predict,columns = ['predict'])\n",
    "test_frame = pd.DataFrame(get_testdata_filename())\n",
    "submission_csv[\"predict\"] = predictions[\"predict\"]\n",
    "submission_csv[\"file\"] = test_frame\n",
    "submission_csv.to_csv(\"predict.csv\", index=False)"
   ]
  },
  {
   "cell_type": "markdown",
   "metadata": {},
   "source": [
    "## feature importance 그래프"
   ]
  },
  {
   "cell_type": "code",
   "execution_count": 26,
   "metadata": {},
   "outputs": [
    {
     "name": "stderr",
     "output_type": "stream",
     "text": [
      "100%|██████████| 1/1 [00:02<00:00,  2.21s/it]\n"
     ]
    },
    {
     "name": "stdout",
     "output_type": "stream",
     "text": [
      "Finished training.\n"
     ]
    },
    {
     "name": "stderr",
     "output_type": "stream",
     "text": [
      "100%|██████████| 1/1 [00:00<00:00,  2.93it/s]"
     ]
    },
    {
     "name": "stdout",
     "output_type": "stream",
     "text": [
      "LGBM 정확도 :  0.9575\n",
      "Finished evaluation.\n"
     ]
    },
    {
     "name": "stderr",
     "output_type": "stream",
     "text": [
      "\n"
     ]
    }
   ],
   "source": [
    "# model 여러개 학습\n",
    "model_name = [\"lgb\"]\n",
    "models = []\n",
    "clfs = []\n",
    "for model in tqdm(model_name):\n",
    "    model, clf = train(X, y, model)\n",
    "    models.append([model, clf])\n",
    "    clfs.append(clf)\n",
    "print('Finished training.')\n",
    "\n",
    "# 검증\n",
    "for model in tqdm(models): \n",
    "    evaluate(valid_X, vaild_y, model)\n",
    "print('Finished evaluation.')"
   ]
  },
  {
   "cell_type": "code",
   "execution_count": 27,
   "metadata": {},
   "outputs": [
    {
     "data": {
      "image/png": "[encoded data removed]",
      "text/plain": [
       "<Figure size 432x288 with 1 Axes>"
      ]
     },
     "metadata": {
      "needs_background": "light"
     },
     "output_type": "display_data"
    },
    {
     "data": {
      "image/png": "[encoded data removed]",
      "text/plain": [
       "<Figure size 432x288 with 1 Axes>"
      ]
     },
     "metadata": {
      "needs_background": "light"
     },
     "output_type": "display_data"
    }
   ],
   "source": [
    "# SPLIT\n",
    "ax = lgb.plot_importance(clf, max_num_features=15, importance_type='split')\n",
    "ax.set(title=f'Feature Importance (split)',\n",
    "\t\txlabel='Feature Importance',\n",
    "\t\tylabel='Features')\n",
    "\n",
    "# GAIN\n",
    "ax = lgb.plot_importance(clf, max_num_features=15, importance_type='gain')\n",
    "ax.set(title=f'Feature Importance (gain)',\n",
    "\t\txlabel='Feature Importance',\n",
    "\t\tylabel='Features')\n",
    "\n",
    "plt.show()"
   ]
  }
 ],
 "metadata": {
  "interpreter": {
   "hash": "31f2aee4e71d21fbe5cf8b01ff0e069b9275f58929596ceb00d14d90e3e16cd6"
  },
  "kernelspec": {
   "display_name": "Python 3",
   "language": "python",
   "name": "python3"
  },
  "language_info": {
   "codemirror_mode": {
    "name": "ipython",
    "version": 3
   },
   "file_extension": ".py",
   "mimetype": "text/x-python",
   "name": "python",
   "nbconvert_exporter": "python",
   "pygments_lexer": "ipython3",
   "version": "3.8.9"
  }
 },
 "nbformat": 4,
 "nbformat_minor": 2
}
